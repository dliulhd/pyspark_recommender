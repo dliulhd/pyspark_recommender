{
 "cells": [
  {
   "cell_type": "markdown",
   "metadata": {
    "id": "D1JMp22fk-XB"
   },
   "source": [
    "# **Welcome to the Notebook**"
   ]
  },
  {
   "cell_type": "markdown",
   "metadata": {
    "id": "WSq024bak3oY"
   },
   "source": [
    "### Task 1 - Set up the project"
   ]
  },
  {
   "cell_type": "markdown",
   "metadata": {
    "id": "yZ2xad8skFPi"
   },
   "source": [
    "Installing the needed modules."
   ]
  },
  {
   "cell_type": "code",
   "execution_count": 1,
   "metadata": {
    "id": "9TysdMWOkEfm"
   },
   "outputs": [
    {
     "name": "stdout",
     "output_type": "stream",
     "text": [
      "Collecting openai==1.16.2\n",
      "  Downloading openai-1.16.2-py3-none-any.whl.metadata (21 kB)\n",
      "Requirement already satisfied: python-dotenv in c:\\users\\alexl\\appdata\\local\\packages\\pythonsoftwarefoundation.python.3.10_qbz5n2kfra8p0\\localcache\\local-packages\\python310\\site-packages (0.21.0)\n",
      "Requirement already satisfied: pyspark in c:\\users\\alexl\\appdata\\local\\packages\\pythonsoftwarefoundation.python.3.10_qbz5n2kfra8p0\\localcache\\local-packages\\python310\\site-packages (3.5.4)\n",
      "Requirement already satisfied: anyio<5,>=3.5.0 in c:\\users\\alexl\\appdata\\local\\packages\\pythonsoftwarefoundation.python.3.10_qbz5n2kfra8p0\\localcache\\local-packages\\python310\\site-packages (from openai==1.16.2) (3.6.2)\n",
      "Collecting distro<2,>=1.7.0 (from openai==1.16.2)\n",
      "  Downloading distro-1.9.0-py3-none-any.whl.metadata (6.8 kB)\n",
      "Requirement already satisfied: httpx<1,>=0.23.0 in c:\\users\\alexl\\appdata\\local\\packages\\pythonsoftwarefoundation.python.3.10_qbz5n2kfra8p0\\localcache\\local-packages\\python310\\site-packages (from openai==1.16.2) (0.28.1)\n",
      "Requirement already satisfied: pydantic<3,>=1.9.0 in c:\\users\\alexl\\appdata\\local\\packages\\pythonsoftwarefoundation.python.3.10_qbz5n2kfra8p0\\localcache\\local-packages\\python310\\site-packages (from openai==1.16.2) (1.10.7)\n",
      "Requirement already satisfied: sniffio in c:\\users\\alexl\\appdata\\local\\packages\\pythonsoftwarefoundation.python.3.10_qbz5n2kfra8p0\\localcache\\local-packages\\python310\\site-packages (from openai==1.16.2) (1.3.0)\n",
      "Requirement already satisfied: tqdm>4 in c:\\users\\alexl\\appdata\\local\\packages\\pythonsoftwarefoundation.python.3.10_qbz5n2kfra8p0\\localcache\\local-packages\\python310\\site-packages (from openai==1.16.2) (4.65.0)\n",
      "Collecting typing-extensions<5,>=4.7 (from openai==1.16.2)\n",
      "  Downloading typing_extensions-4.12.2-py3-none-any.whl.metadata (3.0 kB)\n",
      "Requirement already satisfied: py4j==0.10.9.7 in c:\\users\\alexl\\appdata\\local\\packages\\pythonsoftwarefoundation.python.3.10_qbz5n2kfra8p0\\localcache\\local-packages\\python310\\site-packages (from pyspark) (0.10.9.7)\n",
      "Requirement already satisfied: idna>=2.8 in c:\\users\\alexl\\appdata\\local\\packages\\pythonsoftwarefoundation.python.3.10_qbz5n2kfra8p0\\localcache\\local-packages\\python310\\site-packages (from anyio<5,>=3.5.0->openai==1.16.2) (3.4)\n",
      "Requirement already satisfied: certifi in c:\\users\\alexl\\appdata\\local\\packages\\pythonsoftwarefoundation.python.3.10_qbz5n2kfra8p0\\localcache\\local-packages\\python310\\site-packages (from httpx<1,>=0.23.0->openai==1.16.2) (2023.5.7)\n",
      "Requirement already satisfied: httpcore==1.* in c:\\users\\alexl\\appdata\\local\\packages\\pythonsoftwarefoundation.python.3.10_qbz5n2kfra8p0\\localcache\\local-packages\\python310\\site-packages (from httpx<1,>=0.23.0->openai==1.16.2) (1.0.7)\n",
      "Requirement already satisfied: h11<0.15,>=0.13 in c:\\users\\alexl\\appdata\\local\\packages\\pythonsoftwarefoundation.python.3.10_qbz5n2kfra8p0\\localcache\\local-packages\\python310\\site-packages (from httpcore==1.*->httpx<1,>=0.23.0->openai==1.16.2) (0.14.0)\n",
      "Requirement already satisfied: colorama in c:\\users\\alexl\\appdata\\local\\packages\\pythonsoftwarefoundation.python.3.10_qbz5n2kfra8p0\\localcache\\local-packages\\python310\\site-packages (from tqdm>4->openai==1.16.2) (0.4.6)\n",
      "Downloading openai-1.16.2-py3-none-any.whl (267 kB)\n",
      "Downloading distro-1.9.0-py3-none-any.whl (20 kB)\n",
      "Downloading typing_extensions-4.12.2-py3-none-any.whl (37 kB)\n",
      "Installing collected packages: typing-extensions, distro, openai\n",
      "  Attempting uninstall: typing-extensions\n",
      "    Found existing installation: typing_extensions 4.5.0\n",
      "    Uninstalling typing_extensions-4.5.0:\n",
      "      Successfully uninstalled typing_extensions-4.5.0\n",
      "  Attempting uninstall: openai\n",
      "    Found existing installation: openai 0.27.6\n",
      "    Uninstalling openai-0.27.6:\n",
      "      Successfully uninstalled openai-0.27.6\n",
      "Successfully installed distro-1.9.0 openai-1.16.2 typing-extensions-4.12.2\n"
     ]
    }
   ],
   "source": [
    "!pip install openai==1.16.2 python-dotenv pyspark"
   ]
  },
  {
   "cell_type": "markdown",
   "metadata": {
    "id": "BW-TNHnokK9R"
   },
   "source": [
    "Imporint the modules"
   ]
  },
  {
   "cell_type": "code",
   "execution_count": 2,
   "metadata": {
    "id": "471JgJHHkM4j"
   },
   "outputs": [],
   "source": [
    "from dotenv import load_dotenv\n",
    "import os\n",
    "from openai import OpenAI\n",
    "import pandas as pd\n",
    "import numpy as np\n",
    "\n",
    "from pyspark.sql import SparkSession\n",
    "from pyspark.sql.functions import concat_ws\n",
    "from pyspark.sql import functions as F\n",
    "from pyspark.sql.types import ArrayType, FloatType\n",
    "\n",
    "from pyspark.ml.feature import VectorAssembler, PCA\n",
    "from pyspark.ml.clustering import KMeans\n",
    "import plotly.express as px"
   ]
  },
  {
   "cell_type": "markdown",
   "metadata": {
    "id": "5B9C7nK-n_PH"
   },
   "source": [
    "Setup the OpenAI API"
   ]
  },
  {
   "cell_type": "code",
   "execution_count": null,
   "metadata": {
    "id": "41IBnP7WoDul"
   },
   "outputs": [],
   "source": [
    "load_dotenv(dotenv_path=\"apikey.env.txt\")\n",
    "\n",
    "APIKEY = os.getenv(\"APIKEY\")\n",
    "\n",
    "Client = OpenAI(\n",
    "    api_key=APIKEY    \n",
    ")"
   ]
  },
  {
   "cell_type": "markdown",
   "metadata": {
    "id": "-ZdObqeMkOig"
   },
   "source": [
    "Create a Spark session"
   ]
  },
  {
   "cell_type": "code",
   "execution_count": 9,
   "metadata": {},
   "outputs": [
    {
     "data": {
      "text/html": [
       "\n",
       "            <div>\n",
       "                <p><b>SparkSession - in-memory</b></p>\n",
       "                \n",
       "        <div>\n",
       "            <p><b>SparkContext</b></p>\n",
       "\n",
       "            <p><a href=\"http://DESKTOP-AITSBOK:4040\">Spark UI</a></p>\n",
       "\n",
       "            <dl>\n",
       "              <dt>Version</dt>\n",
       "                <dd><code>v3.5.4</code></dd>\n",
       "              <dt>Master</dt>\n",
       "                <dd><code>local[*]</code></dd>\n",
       "              <dt>AppName</dt>\n",
       "                <dd><code>ProductRecommenderSystem</code></dd>\n",
       "            </dl>\n",
       "        </div>\n",
       "        \n",
       "            </div>\n",
       "        "
      ],
      "text/plain": [
       "<pyspark.sql.session.SparkSession at 0x20271019d80>"
      ]
     },
     "execution_count": 9,
     "metadata": {},
     "output_type": "execute_result"
    }
   ],
   "source": [
    "spark = SparkSession.builder.appName('ProductRecommenderSystem').getOrCreate()\n",
    "spark"
   ]
  },
  {
   "cell_type": "markdown",
   "metadata": {
    "id": "vrVs7c7VkdAU"
   },
   "source": [
    "Loading the dataset"
   ]
  },
  {
   "cell_type": "code",
   "execution_count": 11,
   "metadata": {
    "id": "7nN4tpI2kpJH"
   },
   "outputs": [
    {
     "name": "stdout",
     "output_type": "stream",
     "text": [
      "+----------+--------------------+--------------------+\n",
      "|product_id|               title|         description|\n",
      "+----------+--------------------+--------------------+\n",
      "|        P0|Men's 3X Large Ca...|This heavyweight,...|\n",
      "|        P1|Turmode 30 ft. RP...|If you need more ...|\n",
      "|        P2|Large Tapestry Bo...|Polyester cover r...|\n",
      "|        P3|16-Gauge-Sinks Ve...|It features a rec...|\n",
      "|        P4|Men's Crazy Horse...|This 9 in. black ...|\n",
      "|        P5|Mariana 6 ft. Mul...|With robust struc...|\n",
      "|        P6|5 gal. #650C-2 Po...|BEHR PRO i300 Sem...|\n",
      "|        P7|7/8 in. x 4-1/2 i...|DEWALT High Perfo...|\n",
      "|        P8|  Ring Gold Bar Cart|This Ring Bar Car...|\n",
      "|        P9|Traditional Silve...|This transitional...|\n",
      "|       P10|15 in. x 59 in. O...|Its easy to add a...|\n",
      "|       P11|1 qt. #350F-7 Wil...|BEHR PREMIUM PLUS...|\n",
      "|       P12|Anthracite Cordle...|BlindsAvenue ligh...|\n",
      "|       P13|SlimGrip 78-Inch ...|Luverne SlimGrip ...|\n",
      "|       P14|6 in. x 28 in. x ...|Our Rustic Collec...|\n",
      "|       P15|Espresso Cordless...|\"The 2-1/2 in. Co...|\n",
      "|       P16|5 gal. #BL-W10 Ma...|BEHR PREMIUM PLUS...|\n",
      "|       P17|Eleyn 26 in. Indo...|This lighted chro...|\n",
      "|       P18|1 qt. #M400-5 Bab...|BEHR PREMIUM PLUS...|\n",
      "|       P19|10 in. x 4 in. x ...|Our faux wood bea...|\n",
      "+----------+--------------------+--------------------+\n",
      "only showing top 20 rows\n",
      "\n"
     ]
    }
   ],
   "source": [
    "file_path = 'products_dataset.csv'\n",
    "\n",
    "df = spark.read.csv(file_path, header=True, inferSchema=True)\n",
    "df.show()"
   ]
  },
  {
   "cell_type": "markdown",
   "metadata": {
    "id": "J3iLfvXQqxg1"
   },
   "source": [
    "List of 8 products recently viewed by the user."
   ]
  },
  {
   "cell_type": "code",
   "execution_count": null,
   "metadata": {
    "id": "Y2tAbjKgqxKs"
   },
   "outputs": [],
   "source": [
    "recently_viewed_products = [\n",
    "    'P316',\n",
    "    'P333',\n",
    "    'P1115',\n",
    "    'P1691',\n",
    "    'P1082',\n",
    "    'P397',\n",
    "    'P1441',\n",
    "    'P1054',\n",
    "]"
   ]
  },
  {
   "cell_type": "markdown",
   "metadata": {
    "id": "p8GVRghclHxs"
   },
   "source": [
    "### Task 2 - Prepare the dataset"
   ]
  },
  {
   "cell_type": "markdown",
   "metadata": {
    "id": "QgtmOENUl6uS"
   },
   "source": [
    "Combine `title` and `description` Columns"
   ]
  },
  {
   "cell_type": "code",
   "execution_count": null,
   "metadata": {
    "id": "pIV-mogSlLPa"
   },
   "outputs": [],
   "source": []
  },
  {
   "cell_type": "markdown",
   "metadata": {
    "id": "wbgC0Iy5rO4M"
   },
   "source": [
    "get the combined_text column and convert it into a list"
   ]
  },
  {
   "cell_type": "code",
   "execution_count": 2,
   "metadata": {
    "id": "nLNhzZNQmaQN"
   },
   "outputs": [],
   "source": []
  },
  {
   "cell_type": "markdown",
   "metadata": {
    "id": "cR-Nbn3jrN6F"
   },
   "source": [
    "Use OpenAI text embedding model to create the vector embeddings."
   ]
  },
  {
   "cell_type": "code",
   "execution_count": 2,
   "metadata": {
    "id": "2Lc54tWKmldh"
   },
   "outputs": [],
   "source": []
  },
  {
   "cell_type": "markdown",
   "metadata": {
    "id": "DHuwaf1us-l1"
   },
   "source": [
    "Let't put the embedding vectors into our original dataframe\n",
    "\n",
    "Convert embedding vectors list into a Pyspark DataFrame"
   ]
  },
  {
   "cell_type": "code",
   "execution_count": 3,
   "metadata": {
    "id": "EQRJmM3RhmK1"
   },
   "outputs": [],
   "source": [
    "features_column_names = [f\"embedding_{i}\" for i in range(len(embedding_vectors[0]))]"
   ]
  },
  {
   "cell_type": "markdown",
   "metadata": {
    "id": "aGzNmNuen5ol"
   },
   "source": [
    "Add unique `row_id` to each row in the pysaprk dataframe"
   ]
  },
  {
   "cell_type": "code",
   "execution_count": 3,
   "metadata": {
    "id": "VoQDjRGmne3o"
   },
   "outputs": [],
   "source": []
  },
  {
   "cell_type": "markdown",
   "metadata": {
    "id": "S2DhHJRXoJo7"
   },
   "source": [
    "Add unique `row_id` to each row in our main pyspark dataframe `df`"
   ]
  },
  {
   "cell_type": "code",
   "execution_count": 3,
   "metadata": {
    "id": "c8V61FsgnkLs"
   },
   "outputs": [],
   "source": []
  },
  {
   "cell_type": "markdown",
   "metadata": {
    "id": "pgvT5LdZoPp3"
   },
   "source": [
    "Let's join the two dataframes"
   ]
  },
  {
   "cell_type": "code",
   "execution_count": 3,
   "metadata": {
    "id": "uTELw9sknntv"
   },
   "outputs": [],
   "source": []
  },
  {
   "cell_type": "markdown",
   "metadata": {
    "id": "hY4One5i4VXh"
   },
   "source": [
    "### Task 3 - Cluster products using K-means"
   ]
  },
  {
   "cell_type": "markdown",
   "metadata": {
    "id": "QVGiIJZC22Yo"
   },
   "source": [
    "Assemble the 512 Embedding Columns into a Single 'features' Column"
   ]
  },
  {
   "cell_type": "code",
   "execution_count": 3,
   "metadata": {
    "id": "uCBdSiRb23Wx"
   },
   "outputs": [],
   "source": []
  },
  {
   "cell_type": "markdown",
   "metadata": {
    "id": "7VFW7IQN3nGw"
   },
   "source": [
    "Apply K-Means Clustering with 5 Clusters on the `features` Column"
   ]
  },
  {
   "cell_type": "code",
   "execution_count": 3,
   "metadata": {
    "id": "rW42NbueuByN"
   },
   "outputs": [],
   "source": []
  },
  {
   "cell_type": "markdown",
   "metadata": {
    "id": "tmQsXruiibQN"
   },
   "source": [
    "### Task 4 - Visualize the clusters"
   ]
  },
  {
   "cell_type": "markdown",
   "metadata": {
    "id": "RcKNghIQ7tmW"
   },
   "source": [
    "Let's reduce the dimensionality of our features for visualization purpose\n",
    "\n",
    "`512 dimensions => 2 dimensions`"
   ]
  },
  {
   "cell_type": "code",
   "execution_count": 3,
   "metadata": {
    "id": "j4nInmIO3kef"
   },
   "outputs": [],
   "source": []
  },
  {
   "cell_type": "code",
   "execution_count": null,
   "metadata": {
    "id": "GTDBB6hfl5B1"
   },
   "outputs": [],
   "source": []
  },
  {
   "cell_type": "markdown",
   "metadata": {
    "id": "7aKKtmrtz6JI"
   },
   "source": [
    "Let's plot the Clusters"
   ]
  },
  {
   "cell_type": "code",
   "execution_count": null,
   "metadata": {
    "id": "wyWDqBw63yyo"
   },
   "outputs": [],
   "source": [
    "def plot_clusters(pca_df, num_clusters=5):\n",
    "    \"\"\"\n",
    "    Plots a 2D visualization of clusters using Plotly Express.\n",
    "\n",
    "    Parameters:\n",
    "    - pca_df (DataFrame): A Pandas DataFrame containing columns 'x', 'y', and 'cluster'.\n",
    "      'x' and 'y' are the 2D PCA components, and 'cluster' indicates the cluster label.\n",
    "    - num_clusters (int): The number of unique clusters to display.\n",
    "    - recently_viewed_df (DataFrame, optional): DataFrame with 'x' and 'y' coordinates for recently viewed products.\n",
    "\n",
    "    This function creates an interactive scatter plot where each point is colored according to its cluster.\n",
    "    Recently viewed products are marked as black crosses if provided.\n",
    "\n",
    "    Returns:\n",
    "    - fig (Figure): The Plotly figure object for the plot.\n",
    "    \"\"\"\n",
    "\n",
    "    # Create the base cluster plot\n",
    "    fig = px.scatter(\n",
    "        pca_df,\n",
    "        x='x',\n",
    "        y='y',\n",
    "        opacity=0.6,\n",
    "        size_max=4,\n",
    "        color= pca_df.cluster.astype(str),\n",
    "        title='2D Visualization of Clusters with Recently Viewed Products',\n",
    "        labels={'x': 'PCA Component 1', 'y': 'PCA Component 2'},\n",
    "        category_orders={'cluster': list(range(num_clusters))},\n",
    "        # show the product id in the tooltip\n",
    "        hover_data={'product_id': True}\n",
    "\n",
    "    )\n",
    "\n",
    "    # Update layout to add legend title and adjust plot settings\n",
    "    fig.update_layout(legend_title_text='Clusters', legend=dict(x=1, y=1), width=600, height=500)\n",
    "\n",
    "    return fig\n",
    "\n",
    "fig = plot_clusters(pca_df)\n",
    "fig.show()"
   ]
  },
  {
   "cell_type": "markdown",
   "metadata": {
    "id": "wUf0_1QE9x36"
   },
   "source": [
    "### Task 5 - Highlight recently viewed products"
   ]
  },
  {
   "cell_type": "code",
   "execution_count": 3,
   "metadata": {
    "id": "5aVSaE-194HQ"
   },
   "outputs": [],
   "source": [
    "print(\"The user has recently viewed the following products: \", recently_viewed_products)"
   ]
  },
  {
   "cell_type": "markdown",
   "metadata": {
    "id": "-7XYwmVhKviT"
   },
   "source": [
    "Let's have a look at the records in our `clustered_data` dataframe related to the recently viewed products."
   ]
  },
  {
   "cell_type": "code",
   "execution_count": 3,
   "metadata": {
    "id": "G__WrqP3RreI"
   },
   "outputs": [],
   "source": []
  },
  {
   "cell_type": "markdown",
   "metadata": {
    "id": "IgvR7IZBdfRP"
   },
   "source": [
    "### Task 6 - Recommend products based on recently viewed products"
   ]
  },
  {
   "cell_type": "markdown",
   "metadata": {
    "id": "WGXK0C8iHcqv"
   },
   "source": [
    "Let's have a look at the recently viewed products titles"
   ]
  },
  {
   "cell_type": "code",
   "execution_count": 3,
   "metadata": {
    "id": "n_fSozf6Hi5I"
   },
   "outputs": [],
   "source": []
  },
  {
   "cell_type": "markdown",
   "metadata": {
    "id": "-VDv_TunhyAx"
   },
   "source": [
    "Let's see the distinct clusters of the recenetly viewed products."
   ]
  },
  {
   "cell_type": "code",
   "execution_count": 3,
   "metadata": {
    "id": "vcIpAoXdDgjK"
   },
   "outputs": [],
   "source": []
  },
  {
   "cell_type": "markdown",
   "metadata": {
    "id": "fmoLOKthh2f_"
   },
   "source": [
    "Let's find the possible products for the recommendation."
   ]
  },
  {
   "cell_type": "code",
   "execution_count": 3,
   "metadata": {
    "id": "unKBWkemiLR4"
   },
   "outputs": [],
   "source": []
  },
  {
   "cell_type": "markdown",
   "metadata": {
    "id": "zZxLGRiN41hy"
   },
   "source": [
    "Let's perform a groupby and generate a list of product IDs that can be recommended for each of the clusters."
   ]
  },
  {
   "cell_type": "code",
   "execution_count": 3,
   "metadata": {
    "id": "iW0uDP6vRxvq"
   },
   "outputs": [],
   "source": []
  },
  {
   "cell_type": "code",
   "execution_count": 3,
   "metadata": {
    "id": "JdjExGZS5HNV"
   },
   "outputs": [],
   "source": [
    "# write a python function to display the recommendations\n",
    "def display_recommendations(row):\n",
    "  # find the title of the product in df\n",
    "  product_ids = row['random_recommendations']\n",
    "  cluster = row.cluster\n",
    "\n",
    "  titles = data. \\\n",
    "          filter(data[\"product_id\"]. \\\n",
    "          isin(product_ids)).select(\"title\").collect()\n",
    "\n",
    "  print(\"\\n\")\n",
    "  print(\"Recommendations for Cluster:\", cluster)\n",
    "  for title in titles:\n",
    "    print(title[0])\n",
    "\n",
    "recommendations_df.apply(display_recommendations, axis=1)"
   ]
  }
 ],
 "metadata": {
  "colab": {
   "collapsed_sections": [
    "WSq024bak3oY",
    "p8GVRghclHxs",
    "hY4One5i4VXh",
    "tmQsXruiibQN",
    "wUf0_1QE9x36",
    "IgvR7IZBdfRP"
   ],
   "provenance": []
  },
  "kernelspec": {
   "display_name": "Python 3 (ipykernel)",
   "language": "python",
   "name": "python3"
  },
  "language_info": {
   "codemirror_mode": {
    "name": "ipython",
    "version": 3
   },
   "file_extension": ".py",
   "mimetype": "text/x-python",
   "name": "python",
   "nbconvert_exporter": "python",
   "pygments_lexer": "ipython3",
   "version": "3.10.11"
  }
 },
 "nbformat": 4,
 "nbformat_minor": 4
}
